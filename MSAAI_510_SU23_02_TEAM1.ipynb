{
  "nbformat": 4,
  "nbformat_minor": 0,
  "metadata": {
    "colab": {
      "provenance": []
    },
    "kernelspec": {
      "name": "python3",
      "display_name": "Python 3"
    },
    "language_info": {
      "name": "python"
    }
  },
  "cells": [
    {
      "cell_type": "markdown",
      "source": [
        "# MSAAI 510 Machine Learning Fundamentals and Application\n",
        "# University of San Diego\n",
        "# Summer 2023 Section 02 Final Project Report\n",
        "# Professor: Wesley Pasfield\n",
        "## Final Project Team 1\n",
        "## Team Member: Kwabena Mensah, Bin Lu, Frank Ivey\n",
        "## June 26, 2023"
      ],
      "metadata": {
        "id": "ZXnWV9qQQSg8"
      }
    },
    {
      "cell_type": "markdown",
      "source": [
        "## 1. Problem Statement and Justification for the Proposed Approach"
      ],
      "metadata": {
        "id": "PA_ie3boOwH5"
      }
    },
    {
      "cell_type": "markdown",
      "source": [
        "### 1.1 Problem Statement\n",
        "\n",
        "NA"
      ],
      "metadata": {
        "id": "tfgUlkCjQEBA"
      }
    },
    {
      "cell_type": "markdown",
      "source": [
        "### 1.2 Justification for the Proposed Approach\n",
        "\n",
        "NA"
      ],
      "metadata": {
        "id": "stqZHocfQIjd"
      }
    },
    {
      "cell_type": "markdown",
      "source": [
        "## 2. Data Understanding (EDA)"
      ],
      "metadata": {
        "id": "GvT9zhz_OwsA"
      }
    },
    {
      "cell_type": "code",
      "source": [],
      "metadata": {
        "id": "zcuz2IuIPzAK"
      },
      "execution_count": null,
      "outputs": []
    },
    {
      "cell_type": "markdown",
      "source": [
        "## 3. Data Preparation"
      ],
      "metadata": {
        "id": "29pHq6GlOxG-"
      }
    },
    {
      "cell_type": "code",
      "source": [],
      "metadata": {
        "id": "PvYjFta7PzxQ"
      },
      "execution_count": null,
      "outputs": []
    },
    {
      "cell_type": "markdown",
      "source": [
        "## 4. Feature Engineering"
      ],
      "metadata": {
        "id": "VGI4U1wCOxhX"
      }
    },
    {
      "cell_type": "code",
      "source": [],
      "metadata": {
        "id": "zJD2Nnz5P0TE"
      },
      "execution_count": null,
      "outputs": []
    },
    {
      "cell_type": "markdown",
      "source": [
        "## 5. Feature Selection"
      ],
      "metadata": {
        "id": "O1NWSJ4zOx7n"
      }
    },
    {
      "cell_type": "code",
      "source": [],
      "metadata": {
        "id": "bctCGh6sP0-T"
      },
      "execution_count": null,
      "outputs": []
    },
    {
      "cell_type": "markdown",
      "source": [
        "## 6. Modeling"
      ],
      "metadata": {
        "id": "zdjd3RICOyPw"
      }
    },
    {
      "cell_type": "code",
      "source": [],
      "metadata": {
        "id": "QIy_FndxP1q3"
      },
      "execution_count": null,
      "outputs": []
    },
    {
      "cell_type": "markdown",
      "source": [
        "## 7. Evaluation"
      ],
      "metadata": {
        "id": "In1DENH6Oymv"
      }
    },
    {
      "cell_type": "code",
      "source": [],
      "metadata": {
        "id": "JpSF7vf4P2gg"
      },
      "execution_count": null,
      "outputs": []
    },
    {
      "cell_type": "markdown",
      "source": [
        "## 8. Discussion and Conclusions"
      ],
      "metadata": {
        "id": "GDS36Gj4OzAQ"
      }
    },
    {
      "cell_type": "markdown",
      "source": [
        "## Reference"
      ],
      "metadata": {
        "id": "xxi0UfCzP49j"
      }
    }
  ]
}